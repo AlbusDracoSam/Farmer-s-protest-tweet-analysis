{
  "nbformat": 4,
  "nbformat_minor": 0,
  "metadata": {
    "colab": {
      "name": "Farmer's protest tweets.ipynb",
      "provenance": [],
      "collapsed_sections": [],
      "authorship_tag": "ABX9TyONZF4GwCC1A/nYOOpziwpA",
      "include_colab_link": true
    },
    "kernelspec": {
      "name": "python3",
      "display_name": "Python 3"
    },
    "language_info": {
      "name": "python"
    }
  },
  "cells": [
    {
      "cell_type": "markdown",
      "metadata": {
        "id": "view-in-github",
        "colab_type": "text"
      },
      "source": [
        "<a href=\"https://colab.research.google.com/github/AlbusDracoSam/Farmers-protest-tweet-analysis/blob/main/Farmer's_protest_tweets.ipynb\" target=\"_parent\"><img src=\"https://colab.research.google.com/assets/colab-badge.svg\" alt=\"Open In Colab\"/></a>"
      ]
    },
    {
      "cell_type": "markdown",
      "metadata": {
        "id": "9hscryc7iDob"
      },
      "source": [
        "**Farmer's protest tweet analysis**"
      ]
    },
    {
      "cell_type": "code",
      "metadata": {
        "id": "4d-inPx8hSNv"
      },
      "source": [
        "import pandas as pd\n",
        "import numpy as np\n",
        "from textblob import TextBlob\n",
        "import matplotlib.pyplot as plt"
      ],
      "execution_count": 128,
      "outputs": []
    },
    {
      "cell_type": "code",
      "metadata": {
        "colab": {
          "base_uri": "https://localhost:8080/",
          "height": 162
        },
        "id": "CPI28MeEiair",
        "outputId": "b24889ef-b237-4f69-a248-9e72dfd5fb94"
      },
      "source": [
        "url = \"https://raw.githubusercontent.com/AlbusDracoSam/Farmer-s-protest-tweet-analysis/main/tweetsfarmbills.csv\"\n",
        "df = pd.read_csv(url)\n",
        "df.head(2)"
      ],
      "execution_count": 40,
      "outputs": [
        {
          "output_type": "execute_result",
          "data": {
            "text/html": [
              "<div>\n",
              "<style scoped>\n",
              "    .dataframe tbody tr th:only-of-type {\n",
              "        vertical-align: middle;\n",
              "    }\n",
              "\n",
              "    .dataframe tbody tr th {\n",
              "        vertical-align: top;\n",
              "    }\n",
              "\n",
              "    .dataframe thead th {\n",
              "        text-align: right;\n",
              "    }\n",
              "</style>\n",
              "<table border=\"1\" class=\"dataframe\">\n",
              "  <thead>\n",
              "    <tr style=\"text-align: right;\">\n",
              "      <th></th>\n",
              "      <th>Unnamed: 0</th>\n",
              "      <th>Date</th>\n",
              "      <th>Tweet</th>\n",
              "      <th>Tweet Source</th>\n",
              "      <th>Retweets</th>\n",
              "      <th>Likes</th>\n",
              "      <th>Location</th>\n",
              "      <th>Clean Tweet</th>\n",
              "      <th>SS</th>\n",
              "    </tr>\n",
              "  </thead>\n",
              "  <tbody>\n",
              "    <tr>\n",
              "      <th>0</th>\n",
              "      <td>0</td>\n",
              "      <td>2021-01-01 23:48:40</td>\n",
              "      <td>#respecteachother #kissanAndolan #KisanVirodhi...</td>\n",
              "      <td>Twitter for Android</td>\n",
              "      <td>0</td>\n",
              "      <td>0</td>\n",
              "      <td>NaN</td>\n",
              "      <td>when you stop listening and just want proof th...</td>\n",
              "      <td>NEGATIVE</td>\n",
              "    </tr>\n",
              "    <tr>\n",
              "      <th>1</th>\n",
              "      <td>1</td>\n",
              "      <td>2021-01-01 21:16:19</td>\n",
              "      <td>https://t.co/rkCCnptRGT https://t.co/rkCCnptRG...</td>\n",
              "      <td>Twitter for Android</td>\n",
              "      <td>0</td>\n",
              "      <td>0</td>\n",
              "      <td>India</td>\n",
              "      <td>speech farmers protest must watch and share</td>\n",
              "      <td>POSITIVE</td>\n",
              "    </tr>\n",
              "  </tbody>\n",
              "</table>\n",
              "</div>"
            ],
            "text/plain": [
              "   Unnamed: 0  ...        SS\n",
              "0           0  ...  NEGATIVE\n",
              "1           1  ...  POSITIVE\n",
              "\n",
              "[2 rows x 9 columns]"
            ]
          },
          "metadata": {
            "tags": []
          },
          "execution_count": 40
        }
      ]
    },
    {
      "cell_type": "markdown",
      "metadata": {
        "id": "pfiwggZ-i0Gy"
      },
      "source": [
        "**Getting data using the index**"
      ]
    },
    {
      "cell_type": "code",
      "metadata": {
        "colab": {
          "base_uri": "https://localhost:8080/",
          "height": 35
        },
        "id": "sqLAeGBOiuqv",
        "outputId": "b225eaeb-12d6-46d3-c9d3-71b4e94e41e7"
      },
      "source": [
        "string = df._get_value(2, 'Clean Tweet')\n",
        "string"
      ],
      "execution_count": 41,
      "outputs": [
        {
          "output_type": "execute_result",
          "data": {
            "application/vnd.google.colaboratory.intrinsic+json": {
              "type": "string"
            },
            "text/plain": [
              "'half the problem got sorted when left the remaining will get sorted when yogendra yadav leaves the not the problem they amp are'"
            ]
          },
          "metadata": {
            "tags": []
          },
          "execution_count": 41
        }
      ]
    },
    {
      "cell_type": "markdown",
      "metadata": {
        "id": "ubyU_9U1jErH"
      },
      "source": [
        "**Sample analysis of a single tweet**"
      ]
    },
    {
      "cell_type": "code",
      "metadata": {
        "colab": {
          "base_uri": "https://localhost:8080/"
        },
        "id": "YVM09RhYjJM2",
        "outputId": "7a38dc21-45fe-4a8a-a711-4da92e213d41"
      },
      "source": [
        "#create a textblob object\n",
        "obj = TextBlob(string)\n",
        "\n",
        "#sentiment is an index which return a value between -1 and 1.\n",
        "sentiment = obj.sentiment.polarity\n",
        "\n",
        "#Prints the value\n",
        "print(sentiment)"
      ],
      "execution_count": 42,
      "outputs": [
        {
          "output_type": "stream",
          "text": [
            "-0.08333333333333333\n"
          ],
          "name": "stdout"
        }
      ]
    },
    {
      "cell_type": "markdown",
      "metadata": {
        "id": "qlykVN9QjS61"
      },
      "source": [
        "The understanding of the output is essential. It will return the values from -1 to 1.\n",
        "\n",
        "If the value returned is in the range -1 to 0 then it's a cobmination of both the negative and neutral.\n",
        "\n",
        "If the value returned is in the range of 0 to 1 then it's a hybrid of both the positive and neutral.\n",
        "\n",
        "If the value returned is 0. Then it's absolutely Neutral"
      ]
    },
    {
      "cell_type": "code",
      "metadata": {
        "colab": {
          "base_uri": "https://localhost:8080/"
        },
        "id": "WNxA9vCej4-o",
        "outputId": "3a3d083c-1eff-42f5-f078-626a493f84dd"
      },
      "source": [
        "#Analysis of First 10 tweets\n",
        "for i in range(10):\n",
        "    string = df._get_value(i, 'Clean Tweet')\n",
        "    obj = TextBlob(string)\n",
        "    sentiment = obj.sentiment.polarity\n",
        "    print('{2}. {0} *** {1}'.format(string,sentiment,i))"
      ],
      "execution_count": 43,
      "outputs": [
        {
          "output_type": "stream",
          "text": [
            "0. when you stop listening and just want proof that only you are right behaving like communist let behave like democratic nation *** 0.14285714285714285\n",
            "1. speech farmers protest must watch and share *** 0.0\n",
            "2. half the problem got sorted when left the remaining will get sorted when yogendra yadav leaves the not the problem they amp are *** -0.08333333333333333\n",
            "3. could have been drafted much bettercoming from academicians they should have focused solely merits the bills and not vouch for govts intent promises being made outside bill draft still good see people coming out support *** 0.3\n",
            "4. the french revolution was turningpoint the rise democracy and freedom not just france but across europe and the wider world *** 0.0\n",
            "5. years power has finally found his match *** 0.0\n",
            "6. with farmers *** 0.0\n",
            "7. seems good year for farmers better start moving *** 0.6\n",
            "8. farmers are dying you would die due hunger simple that *** -0.0625\n",
            "9. press conference kisan andolan representatives tomorrow the government should brace itself for big announcement *** 0.0\n"
          ],
          "name": "stdout"
        }
      ]
    },
    {
      "cell_type": "markdown",
      "metadata": {
        "id": "EK1hNvoFnAHm"
      },
      "source": [
        "**Counting Positive, Negative and Neutral tweets**"
      ]
    },
    {
      "cell_type": "code",
      "metadata": {
        "colab": {
          "base_uri": "https://localhost:8080/"
        },
        "id": "JA-jxXd1l_ER",
        "outputId": "7f6d61d3-d9e8-4cc4-f4b7-7c2682c56759"
      },
      "source": [
        "#Counting number of positive,negative and neutral opinions.\n",
        "positive = 0\n",
        "negative = 0\n",
        "neutral = 0\n",
        "for i in range(len(df)):\n",
        "    string = df._get_value(i, 'Clean Tweet')\n",
        "    obj = TextBlob(string)\n",
        "    sentiment = obj.sentiment.polarity\n",
        "    if(sentiment > 0):\n",
        "        positive += 1\n",
        "    if(sentiment < 0):\n",
        "        negative += 1\n",
        "    if(sentiment == 0):\n",
        "        neutral += 1\n",
        "print(\"The number of positive views are : \" + str(positive))\n",
        "print(\"The number of negative views are : \" + str(negative))\n",
        "print(\"The number of neutral views are : \" + str(neutral))"
      ],
      "execution_count": 44,
      "outputs": [
        {
          "output_type": "stream",
          "text": [
            "The number of positive views are : 1391\n",
            "The number of negative views are : 704\n",
            "The number of neutral views are : 1654\n"
          ],
          "name": "stdout"
        }
      ]
    },
    {
      "cell_type": "markdown",
      "metadata": {
        "id": "FSNaC18Fm-UQ"
      },
      "source": [
        "**Pie-Chart**"
      ]
    },
    {
      "cell_type": "code",
      "metadata": {
        "colab": {
          "base_uri": "https://localhost:8080/",
          "height": 265
        },
        "id": "uzm2sQgwoZqS",
        "outputId": "ae6495fe-2093-426a-d966-4a1b3a3802c7"
      },
      "source": [
        "slices = [positive, negative, neutral]\n",
        "names = [\"Positive\", \"Negative\", \"Neutral\"]\n",
        "plt.pie(slices, labels=names)\n",
        "plt.show"
      ],
      "execution_count": 45,
      "outputs": [
        {
          "output_type": "execute_result",
          "data": {
            "text/plain": [
              "<function matplotlib.pyplot.show>"
            ]
          },
          "metadata": {
            "tags": []
          },
          "execution_count": 45
        },
        {
          "output_type": "display_data",
          "data": {
            "image/png": "[encoded data removed]",
            "text/plain": [
              "<Figure size 432x288 with 1 Axes>"
            ]
          },
          "metadata": {
            "tags": []
          }
        }
      ]
    },
    {
      "cell_type": "markdown",
      "metadata": {
        "id": "zIXjNx57qWtJ"
      },
      "source": [
        "**Tweets by places**"
      ]
    },
    {
      "cell_type": "code",
      "metadata": {
        "colab": {
          "base_uri": "https://localhost:8080/"
        },
        "id": "sD9CgW9zp_kg",
        "outputId": "b2a28259-a1f5-4fbe-f5ea-09a9792a0a26"
      },
      "source": [
        "Places = []\n",
        "Dictionary = {}\n",
        "for i in range(len(df)):\n",
        "    string = df._get_value(i, 'Location')\n",
        "    if string not in Places:\n",
        "        Places.append(string)\n",
        "for place in Places:\n",
        "    count = 0\n",
        "    for i in range(3749):\n",
        "        string = df._get_value(i,'Location')\n",
        "        if(string == place):\n",
        "            count += 1\n",
        "    Dictionary.update({place : count})\n",
        "for key in Dictionary:\n",
        "    if(Dictionary[key]>=25):\n",
        "        print(key + \" : \" + str(Dictionary[key]))"
      ],
      "execution_count": 47,
      "outputs": [
        {
          "output_type": "stream",
          "text": [
            "India : 327\n",
            "New Delhi, India : 145\n",
            "Bengaluru, India : 27\n",
            "Mumbai : 33\n",
            "Chandigarh, India : 44\n",
            "New Delhi : 38\n",
            "Mumbai, India : 50\n",
            "Hyderabad, India : 36\n",
            "Brampton, Ontario : 26\n",
            "Punjab, India : 34\n"
          ],
          "name": "stdout"
        }
      ]
    },
    {
      "cell_type": "code",
      "metadata": {
        "colab": {
          "base_uri": "https://localhost:8080/",
          "height": 348
        },
        "id": "M3SDjRwxqrol",
        "outputId": "4fb67356-aec9-4e8d-e7ea-eca7fee6b5ed"
      },
      "source": [
        "keys = []\n",
        "values = []\n",
        "for key in Dictionary:\n",
        "    if(Dictionary[key]>=25 and Dictionary[key]<200):\n",
        "        keys.append(key)\n",
        "        values.append(Dictionary[key])\n",
        "plt.bar(keys,values,)\n",
        "plt.xticks(rotation='vertical')\n",
        "plt.show()"
      ],
      "execution_count": 48,
      "outputs": [
        {
          "output_type": "display_data",
          "data": {
            "image/png": "[encoded data removed]",
            "text/plain": [
              "<Figure size 432x288 with 1 Axes>"
            ]
          },
          "metadata": {
            "tags": [],
            "needs_background": "light"
          }
        }
      ]
    },
    {
      "cell_type": "markdown",
      "metadata": {
        "id": "ChnBL_mgr1u7"
      },
      "source": [
        "**New Delhi Tweets**"
      ]
    },
    {
      "cell_type": "code",
      "metadata": {
        "colab": {
          "base_uri": "https://localhost:8080/",
          "height": 779
        },
        "id": "47d3bUUcrhB1",
        "outputId": "12def030-56a3-4551-8340-38bc9bf2fe84"
      },
      "source": [
        "df.loc[df['Location'] == 'New Delhi, India']"
      ],
      "execution_count": 54,
      "outputs": [
        {
          "output_type": "execute_result",
          "data": {
            "text/html": [
              "<div>\n",
              "<style scoped>\n",
              "    .dataframe tbody tr th:only-of-type {\n",
              "        vertical-align: middle;\n",
              "    }\n",
              "\n",
              "    .dataframe tbody tr th {\n",
              "        vertical-align: top;\n",
              "    }\n",
              "\n",
              "    .dataframe thead th {\n",
              "        text-align: right;\n",
              "    }\n",
              "</style>\n",
              "<table border=\"1\" class=\"dataframe\">\n",
              "  <thead>\n",
              "    <tr style=\"text-align: right;\">\n",
              "      <th></th>\n",
              "      <th>Unnamed: 0</th>\n",
              "      <th>Date</th>\n",
              "      <th>Tweet</th>\n",
              "      <th>Tweet Source</th>\n",
              "      <th>Retweets</th>\n",
              "      <th>Likes</th>\n",
              "      <th>Location</th>\n",
              "      <th>Clean Tweet</th>\n",
              "      <th>SS</th>\n",
              "    </tr>\n",
              "  </thead>\n",
              "  <tbody>\n",
              "    <tr>\n",
              "      <th>2</th>\n",
              "      <td>2</td>\n",
              "      <td>2021-01-01 20:10:18</td>\n",
              "      <td>Half the problem got sorted when @RahulGandhi ...</td>\n",
              "      <td>Twitter Web App</td>\n",
              "      <td>4</td>\n",
              "      <td>8</td>\n",
              "      <td>New Delhi, India</td>\n",
              "      <td>half the problem got sorted when left the rema...</td>\n",
              "      <td>NEGATIVE</td>\n",
              "    </tr>\n",
              "    <tr>\n",
              "      <th>9</th>\n",
              "      <td>9</td>\n",
              "      <td>2021-01-01 18:10:24</td>\n",
              "      <td>Press conference by Kisan Andolan representati...</td>\n",
              "      <td>Twitter for iPhone</td>\n",
              "      <td>0</td>\n",
              "      <td>0</td>\n",
              "      <td>New Delhi, India</td>\n",
              "      <td>press conference kisan andolan representatives...</td>\n",
              "      <td>POSITIVE</td>\n",
              "    </tr>\n",
              "    <tr>\n",
              "      <th>16</th>\n",
              "      <td>16</td>\n",
              "      <td>2021-01-01 16:41:18</td>\n",
              "      <td>@narendramodi @PMOIndia @nstomar \\nThis is all...</td>\n",
              "      <td>Twitter Web App</td>\n",
              "      <td>0</td>\n",
              "      <td>1</td>\n",
              "      <td>New Delhi, India</td>\n",
              "      <td>this all you people and never forget that hist...</td>\n",
              "      <td>NEGATIVE</td>\n",
              "    </tr>\n",
              "    <tr>\n",
              "      <th>55</th>\n",
              "      <td>55</td>\n",
              "      <td>2021-01-01 04:46:15</td>\n",
              "      <td>Watch here farmers protests full documentary\\n...</td>\n",
              "      <td>Twitter for Android</td>\n",
              "      <td>0</td>\n",
              "      <td>0</td>\n",
              "      <td>New Delhi, India</td>\n",
              "      <td>watch here farmers protests full documentary c...</td>\n",
              "      <td>NEGATIVE</td>\n",
              "    </tr>\n",
              "    <tr>\n",
              "      <th>57</th>\n",
              "      <td>57</td>\n",
              "      <td>2021-01-01 03:51:31</td>\n",
              "      <td>@mastersheefu_\\n\\nGood Morning\\n🙏🙏🙏\\n\\nTo supp...</td>\n",
              "      <td>Twitter for Android</td>\n",
              "      <td>1</td>\n",
              "      <td>2</td>\n",
              "      <td>New Delhi, India</td>\n",
              "      <td>good morning support farmers posting this picture</td>\n",
              "      <td>POSITIVE</td>\n",
              "    </tr>\n",
              "    <tr>\n",
              "      <th>...</th>\n",
              "      <td>...</td>\n",
              "      <td>...</td>\n",
              "      <td>...</td>\n",
              "      <td>...</td>\n",
              "      <td>...</td>\n",
              "      <td>...</td>\n",
              "      <td>...</td>\n",
              "      <td>...</td>\n",
              "      <td>...</td>\n",
              "    </tr>\n",
              "    <tr>\n",
              "      <th>3359</th>\n",
              "      <td>3359</td>\n",
              "      <td>2020-12-18 09:26:49</td>\n",
              "      <td>\"New Agri laws haven't come overnight...\"\\n\\nR...</td>\n",
              "      <td>Twitter Web App</td>\n",
              "      <td>1</td>\n",
              "      <td>1</td>\n",
              "      <td>New Delhi, India</td>\n",
              "      <td>new agri laws havent come overnight read what ...</td>\n",
              "      <td>NEGATIVE</td>\n",
              "    </tr>\n",
              "    <tr>\n",
              "      <th>3364</th>\n",
              "      <td>3364</td>\n",
              "      <td>2020-12-18 09:18:22</td>\n",
              "      <td>The Farmers Acts – A Bird’s Eye View. Written ...</td>\n",
              "      <td>Twitter for Advertisers (legacy)</td>\n",
              "      <td>0</td>\n",
              "      <td>3</td>\n",
              "      <td>New Delhi, India</td>\n",
              "      <td>the farmers acts birds eye view written adv ma...</td>\n",
              "      <td>POSITIVE</td>\n",
              "    </tr>\n",
              "    <tr>\n",
              "      <th>3556</th>\n",
              "      <td>3556</td>\n",
              "      <td>2020-12-18 01:30:00</td>\n",
              "      <td>At this stage, farmers’ protest should be allo...</td>\n",
              "      <td>TweetDeck</td>\n",
              "      <td>0</td>\n",
              "      <td>0</td>\n",
              "      <td>New Delhi, India</td>\n",
              "      <td>this stage farmers protest should allowed says</td>\n",
              "      <td>NEGATIVE</td>\n",
              "    </tr>\n",
              "    <tr>\n",
              "      <th>3572</th>\n",
              "      <td>3572</td>\n",
              "      <td>2020-12-17 23:41:46</td>\n",
              "      <td>People who have never done agriculture or not ...</td>\n",
              "      <td>Twitter for Android</td>\n",
              "      <td>0</td>\n",
              "      <td>0</td>\n",
              "      <td>New Delhi, India</td>\n",
              "      <td>people who have never done agriculture not eve...</td>\n",
              "      <td>POSITIVE</td>\n",
              "    </tr>\n",
              "    <tr>\n",
              "      <th>3627</th>\n",
              "      <td>3627</td>\n",
              "      <td>2020-12-17 18:06:32</td>\n",
              "      <td>This is the #PoliticalDrama ⁦@ArvindKejriwal⁩ ...</td>\n",
              "      <td>Twitter for iPhone</td>\n",
              "      <td>0</td>\n",
              "      <td>0</td>\n",
              "      <td>New Delhi, India</td>\n",
              "      <td>this the can resort for what the point tearing...</td>\n",
              "      <td>NEGATIVE</td>\n",
              "    </tr>\n",
              "  </tbody>\n",
              "</table>\n",
              "<p>145 rows × 9 columns</p>\n",
              "</div>"
            ],
            "text/plain": [
              "      Unnamed: 0  ...        SS\n",
              "2              2  ...  NEGATIVE\n",
              "9              9  ...  POSITIVE\n",
              "16            16  ...  NEGATIVE\n",
              "55            55  ...  NEGATIVE\n",
              "57            57  ...  POSITIVE\n",
              "...          ...  ...       ...\n",
              "3359        3359  ...  NEGATIVE\n",
              "3364        3364  ...  POSITIVE\n",
              "3556        3556  ...  NEGATIVE\n",
              "3572        3572  ...  POSITIVE\n",
              "3627        3627  ...  NEGATIVE\n",
              "\n",
              "[145 rows x 9 columns]"
            ]
          },
          "metadata": {
            "tags": []
          },
          "execution_count": 54
        }
      ]
    },
    {
      "cell_type": "code",
      "metadata": {
        "colab": {
          "base_uri": "https://localhost:8080/"
        },
        "id": "JRM_1_fSuGT6",
        "outputId": "bc129ebb-ce74-4b5c-cf49-4a3a12cffb00"
      },
      "source": [
        "positive = 0\n",
        "negative = 0\n",
        "neutral = 0\n",
        "for i in range(3749):\n",
        "    string = df._get_value(i, 'Clean Tweet')\n",
        "    stringone = df._get_value(i, 'Location')\n",
        "    if(stringone == 'New Delhi, India'):\n",
        "        obj = TextBlob(string)\n",
        "        senti = obj.sentiment.polarity\n",
        "        if(senti > 0):\n",
        "            positive += 1\n",
        "        if(senti < 0):\n",
        "            negative += 1\n",
        "        if(senti == 0):\n",
        "            neutral += 1\n",
        "print(\"The number of positive views are : \" + str(positive))\n",
        "print(\"The number of negative views are : \" + str(negative))\n",
        "print(\"The number of neutral views are : \" + str(neutral))"
      ],
      "execution_count": 55,
      "outputs": [
        {
          "output_type": "stream",
          "text": [
            "The number of positive views are : 61\n",
            "The number of negative views are : 37\n",
            "The number of neutral views are : 47\n"
          ],
          "name": "stdout"
        }
      ]
    },
    {
      "cell_type": "code",
      "metadata": {
        "colab": {
          "base_uri": "https://localhost:8080/",
          "height": 265
        },
        "id": "w5sZPVRMunYF",
        "outputId": "877961a5-e001-4b8d-8427-b25ef84caf1b"
      },
      "source": [
        "#Representaion of views in a pie chart\n",
        "slices = [positive, negative, neutral]\n",
        "Names = ['Positive', 'Negative', 'Neutral']\n",
        "plt.bar(Names, slices)\n",
        "plt.show()"
      ],
      "execution_count": 56,
      "outputs": [
        {
          "output_type": "display_data",
          "data": {
            "image/png": "[encoded data removed]",
            "text/plain": [
              "<Figure size 432x288 with 1 Axes>"
            ]
          },
          "metadata": {
            "tags": [],
            "needs_background": "light"
          }
        }
      ]
    },
    {
      "cell_type": "markdown",
      "metadata": {
        "id": "r-Pe381Z0bdl"
      },
      "source": [
        "**Classification by date**"
      ]
    },
    {
      "cell_type": "markdown",
      "metadata": {
        "id": "XB5-tg749qEs"
      },
      "source": [
        "Selecting the tweets between the date from 26th Dec 2020 to 1st Jan 2021"
      ]
    },
    {
      "cell_type": "code",
      "metadata": {
        "id": "2U5hQWay4bqh"
      },
      "source": [
        "pos_tweets = []\n",
        "neg_tweets = []\n",
        "def date_filtered(date):\n",
        "    positive = 0\n",
        "    negative = 0\n",
        "    for i in range(3749):\n",
        "        string = df._get_value(i, 'Date')\n",
        "        stringone = df._get_value(i, 'Clean Tweet')\n",
        "        if(date in string):\n",
        "            obj = TextBlob(stringone)\n",
        "            sentiment = obj.sentiment.polarity\n",
        "            if(sentiment > 0):\n",
        "                positive += 1\n",
        "            if(sentiment < 0):\n",
        "                negative +=1\n",
        "    pos_tweets.append(positive)\n",
        "    neg_tweets.append(negative)"
      ],
      "execution_count": 120,
      "outputs": []
    },
    {
      "cell_type": "code",
      "metadata": {
        "colab": {
          "base_uri": "https://localhost:8080/"
        },
        "id": "arpzwIrbB-ZE",
        "outputId": "7258c1e2-3b66-40de-ddd4-822789d8f589"
      },
      "source": [
        "date_filtered('2020-12-26')\n",
        "date_filtered('2020-12-27')\n",
        "date_filtered('2020-12-28')\n",
        "date_filtered('2020-12-29')\n",
        "date_filtered('2020-12-30')\n",
        "date_filtered('2020-12-31')\n",
        "date_filtered('2021-01-01')\n",
        "print(pos_tweets)\n",
        "print(neg_tweets)"
      ],
      "execution_count": 121,
      "outputs": [
        {
          "output_type": "stream",
          "text": [
            "[99, 62, 53, 80, 112, 50, 26]\n",
            "[47, 36, 30, 43, 46, 22, 8]\n"
          ],
          "name": "stdout"
        }
      ]
    },
    {
      "cell_type": "code",
      "metadata": {
        "colab": {
          "base_uri": "https://localhost:8080/",
          "height": 265
        },
        "id": "5KQNVPp0DDha",
        "outputId": "042d70c5-1957-4470-d569-5faad64c3cb4"
      },
      "source": [
        "Dates = ['26 Dec','27 Dec','28 Dec','29 Dec','30 Dec','31 Dec','01 Jan']\n",
        "plt.plot(Dates,pos_tweets,label='Positive')\n",
        "plt.plot(Dates,neg_tweets,label='Negative')\n",
        "leg = plt.legend();\n",
        "plt.show()"
      ],
      "execution_count": 126,
      "outputs": [
        {
          "output_type": "display_data",
          "data": {
            "image/png": "[encoded data removed]",
            "text/plain": [
              "<Figure size 432x288 with 1 Axes>"
            ]
          },
          "metadata": {
            "tags": [],
            "needs_background": "light"
          }
        }
      ]
    },
    {
      "cell_type": "code",
      "metadata": {
        "colab": {
          "base_uri": "https://localhost:8080/"
        },
        "id": "EGn8BdpmFDJQ",
        "outputId": "c59b3a63-846d-40f2-de7a-947e571548af"
      },
      "source": [
        "maxRT = df['Retweets'].max()\n",
        "maxLikes = df['Likes'].max()\n",
        "fav=df[df.Likes==maxLikes].index[0]\n",
        "rt=df[df.Retweets==maxRT].index[0]\n",
        "\n",
        "\n",
        "print(f\"The most liked tweet is: {df['Clean Tweet'][fav]}\")\n",
        "print(f\"Number of likes: {maxLikes}\")\n",
        "print(\"------------------\")\n",
        "print()\n",
        "\n",
        "#Print the most retweeted tweet\n",
        "print(f\"The most Retweeted tweet is: {df['Clean Tweet'][rt]}\")\n",
        "print(f\"Number of Retweets: {maxRT}\")\n",
        "print(\"------------------\")\n",
        "print()\n"
      ],
      "execution_count": 139,
      "outputs": [
        {
          "output_type": "stream",
          "text": [
            "The most liked tweet is: its high time opp political parties stop playing with for their personal gain was against the farmers there would have been protests all over you see the problem only the north our are not for you play dirty games with\n",
            "Number of likes: 1687\n",
            "------------------\n",
            "\n",
            "The most Retweeted tweet is: the indian has seen show global solidarity with calls supporting the supreme court judgment the right citizens peacefully protest and for the bills put hold until resolution can reached\n",
            "Number of Retweets: 294\n",
            "------------------\n",
            "\n"
          ],
          "name": "stdout"
        }
      ]
    }
  ]
}